{
  "nbformat": 4,
  "nbformat_minor": 0,
  "metadata": {
    "colab": {
      "provenance": [],
      "authorship_tag": "ABX9TyP2Mc5UNIiB3uOa9+77o0Hg",
      "include_colab_link": true
    },
    "kernelspec": {
      "name": "python3",
      "display_name": "Python 3"
    },
    "language_info": {
      "name": "python"
    }
  },
  "cells": [
    {
      "cell_type": "markdown",
      "metadata": {
        "id": "view-in-github",
        "colab_type": "text"
      },
      "source": [
        "<a href=\"https://colab.research.google.com/github/mjki3rd3/Git-Pythons/blob/main/Co_Lab_Test.ipynb\" target=\"_parent\"><img src=\"https://colab.research.google.com/assets/colab-badge.svg\" alt=\"Open In Colab\"/></a>"
      ]
    },
    {
      "cell_type": "markdown",
      "source": [
        "Euclid's Algorithm"
      ],
      "metadata": {
        "id": "6og76HkFBUaj"
      }
    },
    {
      "cell_type": "code",
      "source": [
        "def gcf(x, y):\n",
        "  if y == 0:\n",
        "    x, y = y, x\n",
        "  while y != 0:\n",
        "    x, y = y, x % y\n",
        "    print(x, y)\n",
        "  return x\n",
        "\n",
        "gcf1 = gcf(55, 44)\n",
        "\n",
        "print(gcf1, \"\\n\")\n",
        "\n",
        "gcf2 = gcf(5, 44)\n",
        "\n",
        "print(gcf2)\n",
        "\n"
      ],
      "metadata": {
        "colab": {
          "base_uri": "https://localhost:8080/"
        },
        "id": "TzUmRvD5BcXO",
        "outputId": "66b42de9-8d2b-4458-9179-cf7de6564edc"
      },
      "execution_count": 3,
      "outputs": [
        {
          "output_type": "stream",
          "name": "stdout",
          "text": [
            "44 11\n",
            "11 0\n",
            "11 \n",
            "\n",
            "44 5\n",
            "5 4\n",
            "4 1\n",
            "1 0\n",
            "1\n"
          ]
        }
      ]
    },
    {
      "cell_type": "markdown",
      "source": [
        "Merge Sort"
      ],
      "metadata": {
        "id": "CfbPwrDQHKU3"
      }
    },
    {
      "cell_type": "code",
      "source": [
        "def merge_sort(a_list):\n",
        "\n",
        "\tprint(a_list)\n",
        "\n",
        "\tif len(a_list) > 1:\n",
        "\t\tmid = len(a_list) // 2\n",
        "\t\tleft_half = a_list[:mid]\n",
        "\t\tright_half = a_list[mid:]\n",
        "\t\tmerge_sort(left_half)\n",
        "\t\tmerge_sort(right_half)\n",
        "\n",
        "\t\tleft_ind = 0\n",
        "\t\tright_ind = 0\n",
        "\t\talist_ind = 0\n",
        "\n",
        "\t\twhile left_ind < len(left_half) and right_ind < len(right_half):\n",
        "\t\t\tif left_half[left_ind] <= right_half[right_ind]:\n",
        "\t\t\t\ta_list[alist_ind] = left_half[left_ind]\n",
        "\t\t\t\tleft_ind += 1\n",
        "\t\t\telse:\n",
        "\t\t\t\ta_list[alist_ind] = right_half[right_ind]\n",
        "\t\t\t\tright_ind += 1\n",
        "\t\t\talist_ind += 1\n",
        "\n",
        "\t\twhile left_ind < len(left_half):\n",
        "\t\t\ta_list[alist_ind]=left_half[left_ind]\n",
        "\t\t\tleft_ind += 1\n",
        "\t\t\talist_ind += 1\n",
        "\n",
        "\t\twhile right_ind < len(right_half):\n",
        "\t\t\ta_list[alist_ind]=right_half[right_ind]\n",
        "\t\t\tright_ind += 1\n",
        "\t\t\talist_ind += 1\n",
        "\n",
        "\treturn a_list\n",
        "\n",
        "a_list = [6, 3, 9, 2, 5, 2, 8, 7, 4, 1]\n",
        "\n",
        "merge_sort(a_list)\n",
        "print(\"\\n\")\n",
        "print(a_list)\n"
      ],
      "metadata": {
        "id": "zB9JuRcKHN5N",
        "outputId": "90ab45a8-5663-4641-fe0e-aa4b75190220",
        "colab": {
          "base_uri": "https://localhost:8080/"
        }
      },
      "execution_count": 4,
      "outputs": [
        {
          "output_type": "stream",
          "name": "stdout",
          "text": [
            "[6, 3, 9, 2, 5, 2, 8, 7, 4, 1]\n",
            "[6, 3, 9, 2, 5]\n",
            "[6, 3]\n",
            "[6]\n",
            "[3]\n",
            "[9, 2, 5]\n",
            "[9]\n",
            "[2, 5]\n",
            "[2]\n",
            "[5]\n",
            "[2, 8, 7, 4, 1]\n",
            "[2, 8]\n",
            "[2]\n",
            "[8]\n",
            "[7, 4, 1]\n",
            "[7]\n",
            "[4, 1]\n",
            "[4]\n",
            "[1]\n",
            "\n",
            "\n",
            "[1, 2, 2, 3, 4, 5, 6, 7, 8, 9]\n"
          ]
        }
      ]
    }
  ]
}