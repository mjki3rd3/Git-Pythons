{
  "nbformat": 4,
  "nbformat_minor": 0,
  "metadata": {
    "colab": {
      "provenance": [],
      "authorship_tag": "ABX9TyNYCfpKRq5+gFV6xWQvaftx",
      "include_colab_link": true
    },
    "kernelspec": {
      "name": "python3",
      "display_name": "Python 3"
    },
    "language_info": {
      "name": "python"
    }
  },
  "cells": [
    {
      "cell_type": "markdown",
      "metadata": {
        "id": "view-in-github",
        "colab_type": "text"
      },
      "source": [
        "<a href=\"https://colab.research.google.com/github/mjki3rd3/Git-Pythons/blob/main/Co_Lab_Test.ipynb\" target=\"_parent\"><img src=\"https://colab.research.google.com/assets/colab-badge.svg\" alt=\"Open In Colab\"/></a>"
      ]
    },
    {
      "cell_type": "markdown",
      "source": [
        "Euclid's Algorithm"
      ],
      "metadata": {
        "id": "6og76HkFBUaj"
      }
    },
    {
      "cell_type": "code",
      "source": [
        "def gcf(x, y):\n",
        "  if y == 0:\n",
        "    x, y = y, x\n",
        "  while y != 0:\n",
        "    x, y = y, x % y\n",
        "    print(x, y)\n",
        "  return x\n",
        "\n",
        "gcf1 = gcf(99, 0)\n",
        "\n",
        "print(gcf1, \"\\n\")\n",
        "\n",
        "gcf2 = gcf(5, 44)\n",
        "\n",
        "print(gcf2)\n",
        "\n"
      ],
      "metadata": {
        "colab": {
          "base_uri": "https://localhost:8080/"
        },
        "id": "TzUmRvD5BcXO",
        "outputId": "aff28cd8-87dd-4589-9a15-b97395a082c3"
      },
      "execution_count": null,
      "outputs": [
        {
          "output_type": "stream",
          "name": "stdout",
          "text": [
            "99 0\n",
            "99 \n",
            "\n",
            "44 5\n",
            "5 4\n",
            "4 1\n",
            "1 0\n",
            "1\n"
          ]
        }
      ]
    }
  ]
}